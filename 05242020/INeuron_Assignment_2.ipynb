{
 "cells": [
  {
   "cell_type": "markdown",
   "metadata": {},
   "source": [
    "# Task 1"
   ]
  },
  {
   "cell_type": "markdown",
   "metadata": {},
   "source": [
    "<b>1.1\n",
    "Write a Python Program to implement your own myreduce() function which works exactly like\n",
    "Python's built-in function reduce()</b>"
   ]
  },
  {
   "cell_type": "code",
   "execution_count": 1,
   "metadata": {},
   "outputs": [
    {
     "data": {
      "text/plain": [
       "15"
      ]
     },
     "execution_count": 1,
     "metadata": {},
     "output_type": "execute_result"
    }
   ],
   "source": [
    "\"\"\" \"\"\"\n",
    "\n",
    "def myReduce(func,listDtl):\n",
    "    first=listDtl[0]\n",
    "    for i in listDtl[1:]:\n",
    "        first=func(first,i)\n",
    "    return first\n",
    "\n",
    "z = lambda x, y: x + y\n",
    "\n",
    "\n",
    "\n",
    "myReduce(z, [1, 2, 3, 4,5])\n"
   ]
  },
  {
   "cell_type": "code",
   "execution_count": 2,
   "metadata": {},
   "outputs": [
    {
     "data": {
      "text/plain": [
       "120"
      ]
     },
     "execution_count": 2,
     "metadata": {},
     "output_type": "execute_result"
    }
   ],
   "source": [
    "m = lambda x, y: x * y\n",
    "myReduce(m, [1, 2, 3, 4,5])"
   ]
  },
  {
   "cell_type": "markdown",
   "metadata": {},
   "source": [
    "<b>1.2\n",
    "Write a Python program to implement your own myfilter() function which works exactly like\n",
    "Python's built-in function filter()</b>"
   ]
  },
  {
   "cell_type": "code",
   "execution_count": 3,
   "metadata": {},
   "outputs": [
    {
     "name": "stdout",
     "output_type": "stream",
     "text": [
      "[2, 4, 6, 8, 10]\n",
      "['a', 'e', 'i']\n"
     ]
    }
   ],
   "source": [
    "def my_filter(func,sequence):\n",
    "    res=[]\n",
    "    for variable in sequence :\n",
    "        if func(variable):\n",
    "            res.append(variable)\n",
    "    return res\n",
    "\n",
    "def is_even(item):\n",
    "    if item%2==0 :\n",
    "        return True\n",
    "    else :\n",
    "        return False\n",
    "\n",
    "def is_vowel(item):\n",
    "    lst = ['a','e','i','o','u']\n",
    "    if item in lst :\n",
    "        return True\n",
    "    else :\n",
    "        return False\n",
    "\n",
    "\n",
    "seq=[1,2,3,4,5,6,7,8,9,10]\n",
    "print(my_filter(is_even,seq))\n",
    "\n",
    "\n",
    "seq=['a','b','c','d','e','f','g','h','i','j']\n",
    "print(my_filter(is_vowel,seq))"
   ]
  },
  {
   "cell_type": "markdown",
   "metadata": {},
   "source": [
    "<b>2. Implement List comprehensions to produce the following lists.</b>"
   ]
  },
  {
   "cell_type": "code",
   "execution_count": 4,
   "metadata": {},
   "outputs": [
    {
     "name": "stdout",
     "output_type": "stream",
     "text": [
      "['A', 'C', 'A', 'D', 'G', 'I', 'L', 'D']\n"
     ]
    }
   ],
   "source": [
    "name='ACADGILD'\n",
    "print(list(x for x in name))\n"
   ]
  },
  {
   "cell_type": "code",
   "execution_count": 5,
   "metadata": {},
   "outputs": [
    {
     "name": "stdout",
     "output_type": "stream",
     "text": [
      "['x', 'xx', 'xxx', 'xxxx', 'y', 'yy', 'yyy', 'yyyy', 'z', 'zz', 'zzz', 'zzzz']\n"
     ]
    }
   ],
   "source": [
    "lst = ['x','y','z']\n",
    "count=4\n",
    "print(list(x*y for x in lst for y in range(1,count+1)))"
   ]
  },
  {
   "cell_type": "code",
   "execution_count": 6,
   "metadata": {},
   "outputs": [
    {
     "name": "stdout",
     "output_type": "stream",
     "text": [
      "['x', 'y', 'z', 'xx', 'yy', 'zz', 'xx', 'yy', 'zz', 'xxxx', 'yyyy', 'zzzz']\n"
     ]
    }
   ],
   "source": [
    "lst = ['x','y','z']\n",
    "count=[1,2,2,4]\n",
    "print(list(x*y for x in count for y in lst ))"
   ]
  },
  {
   "cell_type": "code",
   "execution_count": 7,
   "metadata": {},
   "outputs": [
    {
     "name": "stdout",
     "output_type": "stream",
     "text": [
      "[[2], [3], [4], [3], [4], [5], [4], [5], [6]]\n"
     ]
    }
   ],
   "source": [
    "start_number = 2\n",
    "column_size = 3\n",
    "row_size = 3\n",
    "\n",
    "print(list([i+x] for x in range(row_size) for i in range(start_number,start_number+column_size)))"
   ]
  },
  {
   "cell_type": "code",
   "execution_count": 8,
   "metadata": {},
   "outputs": [
    {
     "name": "stdout",
     "output_type": "stream",
     "text": [
      "[[2, 3, 4, 5], [3, 4, 5, 6], [4, 5, 6, 7], [5, 6, 7, 8]]\n"
     ]
    }
   ],
   "source": [
    "start_number = 2\n",
    "column_size = 4\n",
    "row_size = 4\n",
    "\n",
    "print(list(list(i+x for x in range(row_size)) for i in range(start_number,start_number+column_size)))"
   ]
  },
  {
   "cell_type": "code",
   "execution_count": 9,
   "metadata": {},
   "outputs": [
    {
     "name": "stdout",
     "output_type": "stream",
     "text": [
      "[(1, 1), (2, 1), (3, 1), (1, 2), (2, 2), (3, 2), (1, 3), (2, 3), (3, 3)]\n"
     ]
    }
   ],
   "source": [
    "posx=1\n",
    "posy=1\n",
    "plot_range=3\n",
    "print(list((x,y) for y in range(posy,plot_range+1) for x in range(posx,plot_range+1)))\n"
   ]
  },
  {
   "cell_type": "markdown",
   "metadata": {},
   "source": [
    "<b>Implement a function longestWord() that takes a list of words and returns the longest one.</b>"
   ]
  },
  {
   "cell_type": "code",
   "execution_count": 10,
   "metadata": {},
   "outputs": [
    {
     "name": "stdout",
     "output_type": "stream",
     "text": [
      "administration\n"
     ]
    }
   ],
   "source": [
    "lst = ['administration','agreement','beautiful','challenge','democratic','development','environmental','generation']\n",
    "\n",
    "def longestWord(lst_of_words):\n",
    "    lst_max_len=max(list((len(z) for z in lst_of_words)))\n",
    "    for name in lst_of_words:\n",
    "        if len(name)==lst_max_len:\n",
    "            return name\n",
    "\n",
    "print(longestWord(lst))\n"
   ]
  },
  {
   "cell_type": "code",
   "execution_count": 11,
   "metadata": {},
   "outputs": [
    {
     "data": {
      "text/plain": [
       "'administration'"
      ]
     },
     "execution_count": 11,
     "metadata": {},
     "output_type": "execute_result"
    }
   ],
   "source": [
    "lst = ['administration','agreement','beautiful','challenge','democratic','development','environmental','generation']\n",
    "\n",
    "def longestWord(lst_of_words):\n",
    "    return \"\".join(list((name for name in lst_of_words if max(list((len(z) for z in lst_of_words)))== len(name))))\n",
    "          \n",
    "longestWord(lst)"
   ]
  },
  {
   "cell_type": "markdown",
   "metadata": {},
   "source": [
    "# Task 2"
   ]
  },
  {
   "cell_type": "code",
   "execution_count": 12,
   "metadata": {},
   "outputs": [
    {
     "name": "stdout",
     "output_type": "stream",
     "text": [
      "43.30127018922193\n"
     ]
    }
   ],
   "source": [
    "x=10;y=10;z=10\n",
    "s=(x+y+z)/2\n",
    "print((s*(s-x)*(s-y)*(s-z))**0.5)"
   ]
  },
  {
   "cell_type": "markdown",
   "metadata": {},
   "source": [
    "<b>1.1\n",
    "Write a Python Program(with class concepts) to find the area of the triangle using the below\n",
    "formula.\n",
    "area = (s*(s-a)*(s-b)*(s-c)) ** 0.5\n",
    "Function to take the length of the sides of triangle from user should be defined in the parent\n",
    "class and function to calculate the area should be defined in subclass.</b>"
   ]
  },
  {
   "cell_type": "code",
   "execution_count": 13,
   "metadata": {},
   "outputs": [
    {
     "data": {
      "text/plain": [
       "43.30127018922193"
      ]
     },
     "execution_count": 13,
     "metadata": {},
     "output_type": "execute_result"
    }
   ],
   "source": [
    "class set_rectangle_param():\n",
    "    def __init__(self,x=0,y=0,z=0):\n",
    "        self.x=x\n",
    "        self.y=y\n",
    "        self.z=z\n",
    "class rectangle(set_rectangle_param): \n",
    "        \n",
    "    def area(set_rectangle_param):        \n",
    "        x=set_rectangle_param.x\n",
    "        y=set_rectangle_param.y\n",
    "        z=set_rectangle_param.z\n",
    "        s=(x+y+z)/2\n",
    "        return (s*(s-x)*(s-y)*(s-z))**0.5\n",
    "    \n",
    "a=rectangle(x=10,y=10,z=10)\n",
    "a.area()\n"
   ]
  },
  {
   "cell_type": "markdown",
   "metadata": {},
   "source": [
    "<b> 1.2 Write a function filter_long_words() that takes a list of words and an integer n and returns the list\n",
    "of words that are longer than n.</b>"
   ]
  },
  {
   "cell_type": "code",
   "execution_count": 14,
   "metadata": {},
   "outputs": [
    {
     "data": {
      "text/plain": [
       "['administration', 'democratic', 'development', 'environmental', 'generation']"
      ]
     },
     "execution_count": 14,
     "metadata": {},
     "output_type": "execute_result"
    }
   ],
   "source": [
    "def filter_long_word_1(lst_name=[],word_len=0):\n",
    "    return list(name for name in lst_name if len(name)>=word_len)\n",
    "\n",
    "filter_long_word_1(['administration','agreement','beautiful','challenge','democratic','development','environmental','generation'],10)"
   ]
  },
  {
   "cell_type": "code",
   "execution_count": 15,
   "metadata": {},
   "outputs": [
    {
     "data": {
      "text/plain": [
       "['administration', 'democratic', 'development', 'environmental', 'generation']"
      ]
     },
     "execution_count": 15,
     "metadata": {},
     "output_type": "execute_result"
    }
   ],
   "source": [
    "filter_long_word_2=lambda lst_name,word_len:list(name for name in lst_name if len(name)>=word_len)\n",
    "filter_long_word_2(['administration','agreement','beautiful','challenge','democratic','development','environmental','generation'],10)\n"
   ]
  },
  {
   "cell_type": "markdown",
   "metadata": {},
   "source": [
    "<b>2.1 \n",
    "    Write a Python program using function concept that maps list of words into a list of integers\n",
    "representing the lengths of the corresponding words .</b>"
   ]
  },
  {
   "cell_type": "code",
   "execution_count": 16,
   "metadata": {},
   "outputs": [
    {
     "data": {
      "text/plain": [
       "[14, 9, 9, 9, 10, 11, 13, 10]"
      ]
     },
     "execution_count": 16,
     "metadata": {},
     "output_type": "execute_result"
    }
   ],
   "source": [
    "lst = ['administration','agreement','beautiful','challenge','democratic','development','environmental','generation']\n",
    "def len_of_lst_value(lst=[]):\n",
    "    return list((len(z) for z in lst))\n",
    "len_of_lst_value(lst)"
   ]
  },
  {
   "cell_type": "markdown",
   "metadata": {},
   "source": [
    "<b> 2.2\n",
    "Write a Python function which takes a character (i.e. a string of length 1) and returns True if it is\n",
    "a vowel, False otherwise.</b>"
   ]
  },
  {
   "cell_type": "code",
   "execution_count": 17,
   "metadata": {},
   "outputs": [
    {
     "data": {
      "text/plain": [
       "False"
      ]
     },
     "execution_count": 17,
     "metadata": {},
     "output_type": "execute_result"
    }
   ],
   "source": [
    "def is_vowel(char=''):\n",
    "    lst = ['a','e','i','o','u']\n",
    "    if char in lst :\n",
    "        return True\n",
    "    else :\n",
    "        return False\n",
    "\n",
    "is_vowel('s')"
   ]
  }
 ],
 "metadata": {
  "kernelspec": {
   "display_name": "Python 3",
   "language": "python",
   "name": "python3"
  },
  "language_info": {
   "codemirror_mode": {
    "name": "ipython",
    "version": 3
   },
   "file_extension": ".py",
   "mimetype": "text/x-python",
   "name": "python",
   "nbconvert_exporter": "python",
   "pygments_lexer": "ipython3",
   "version": "3.7.6"
  }
 },
 "nbformat": 4,
 "nbformat_minor": 2
}
